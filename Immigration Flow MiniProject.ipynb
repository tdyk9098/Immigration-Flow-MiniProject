{
 "cells": [
  {
   "cell_type": "code",
   "execution_count": null,
   "id": "60690ef9",
   "metadata": {},
   "outputs": [],
   "source": [
    "import numpy as np\n",
    "import pandas as pd\n",
    "import matplotlib.pyplot as plt\n",
    "import seaborn as sns\n",
    "%matplotlib inline"
   ]
  },
  {
   "cell_type": "code",
   "execution_count": null,
   "id": "77ef1993",
   "metadata": {},
   "outputs": [],
   "source": [
    "# Source of CSV file\n",
    "# https://stats.oecd.org/Index.aspx?DataSetCode=MIG"
   ]
  },
  {
   "cell_type": "code",
   "execution_count": null,
   "id": "c2977b58",
   "metadata": {},
   "outputs": [],
   "source": [
    "# Code to read the CSV File from OECD.org\n",
    "# Flag codes and Flags columns were removed\n",
    "# Place CSV file within same directory as Jupyter Notebook\n",
    "\n",
    "data = pd.read_csv(\"MIG_01052022002510906.csv\", low_memory = False)\n",
    "data1=data.drop([\"Flag Codes\",\"Flags\"], axis = 1)\n",
    "data1.info()"
   ]
  },
  {
   "cell_type": "code",
   "execution_count": null,
   "id": "69acb64a",
   "metadata": {},
   "outputs": [],
   "source": [
    "# Code for the data to be used\n",
    "# All rows with Total as the country of birth/nationality were removed\n",
    "data2= data1.drop(data1.index[data1[\"Country of birth/nationality\"]==\"Total\"])\n",
    "data2.info()"
   ]
  },
  {
   "cell_type": "code",
   "execution_count": null,
   "id": "b9fdcc0a",
   "metadata": {},
   "outputs": [],
   "source": [
    "# The types of immigration data available\n",
    "print(data1[\"Variable\"].unique())"
   ]
  },
  {
   "cell_type": "code",
   "execution_count": null,
   "id": "7ce6903f",
   "metadata": {},
   "outputs": [],
   "source": [
    "# Total immigration values for all countries over all time periods\n",
    "var = data2.groupby(\"Variable\")[\"Value\"].sum()\n",
    "var.apply(lambda x:'%.0f'%x)"
   ]
  },
  {
   "cell_type": "code",
   "execution_count": null,
   "id": "9457461e",
   "metadata": {},
   "outputs": [],
   "source": [
    "# Total number of countries for analysis\n",
    "data2[\"Country\"].nunique()"
   ]
  },
  {
   "cell_type": "code",
   "execution_count": null,
   "id": "ff485021",
   "metadata": {},
   "outputs": [],
   "source": [
    "# List of country options for analysis\n",
    "country1 = data2[\"Country\"].unique().tolist()\n",
    "country1"
   ]
  },
  {
   "cell_type": "code",
   "execution_count": null,
   "id": "137d59a4",
   "metadata": {},
   "outputs": [],
   "source": [
    "# Total and Average Inflows of foreign populations each year\n",
    "print ( \"Total Inflows of foreign population by nationality each year, average inflow per country\")\n",
    "inflow_sum = data2[data2[\"Variable\"]==\"Inflows of foreign population by nationality\"].groupby(\"Year\")[\"Value\"].sum().round(2)\n",
    "inflow_avg = data2[data2[\"Variable\"]==\"Inflows of foreign population by nationality\"].groupby(\"Year\")[\"Value\"].mean().round(2)\n",
    "year = data2[\"Year\"].unique()\n",
    "for year,inflow_sum,inflow_avg in zip(year,inflow_sum,inflow_avg):\n",
    "    print (year,\":\",inflow_sum,\",\",inflow_avg)"
   ]
  },
  {
   "cell_type": "code",
   "execution_count": null,
   "id": "7a8b32de",
   "metadata": {},
   "outputs": [],
   "source": [
    "# Graph of Total and Average Inflows of foreign populations each year\n",
    "inftotal_df = pd.DataFrame(data2[data2[\"Variable\"]==\"Inflows of foreign population by nationality\"].groupby(\"Year\")[\"Value\"].sum().round(2))\n",
    "infavg_df = pd.DataFrame(data2[data2[\"Variable\"]==\"Inflows of foreign population by nationality\"].groupby(\"Year\")[\"Value\"].mean().round(2)) \n",
    "\n",
    "fig,axes = plt.subplots(nrows =1,ncols=2, figsize=(15,4))\n",
    "\n",
    "axes[0].plot(inftotal_df, lw = 3)\n",
    "axes[0].set_title(\"Total Inflows\")\n",
    "axes[0].set_ylabel(\"Total Inflows (million)\")\n",
    "axes[0].set_xlabel(\"Year\")\n",
    "\n",
    "axes[1].plot(infavg_df, color = \"red\", lw =3, ls = \"--\")\n",
    "axes[1].set_title(\"Average Inflows\")\n",
    "axes[1].set_ylabel(\"Avg Inflows\")\n",
    "axes[1].set_xlabel(\"Year\")\n",
    "\n",
    "plt.tight_layout()"
   ]
  },
  {
   "cell_type": "code",
   "execution_count": null,
   "id": "e5258474",
   "metadata": {},
   "outputs": [],
   "source": [
    "# Total and Average Outflows of foreign populations each year\n",
    "print ( \"Total Outflows of foreign populations each year, average outflow per country\")\n",
    "outflow_sum= data2[data2[\"Variable\"]==\"Outflows of foreign population by nationality\"].groupby(\"Year\")[\"Value\"].sum().round(2)\n",
    "outflow_avg= data2[data2[\"Variable\"]==\"Outflows of foreign population by nationality\"].groupby(\"Year\")[\"Value\"].mean().round(2)\n",
    "year = data2[\"Year\"].unique()\n",
    "for year,outflow_sum,outflow_avg in zip(year,outflow_sum,outflow_avg):\n",
    "    print (year,\":\",outflow_sum,\",\",outflow_avg)"
   ]
  },
  {
   "cell_type": "code",
   "execution_count": null,
   "id": "68d72cb0",
   "metadata": {},
   "outputs": [],
   "source": [
    "# Graph of Total and Average Outflows of foreign populations each year\n",
    "outtotal_df = pd.DataFrame(data2[data2[\"Variable\"]==\"Outflows of foreign population by nationality\"].groupby(\"Year\")[\"Value\"].sum().round(2))\n",
    "outavg_df = pd.DataFrame(data2[data2[\"Variable\"]==\"Outflows of foreign population by nationality\"].groupby(\"Year\")[\"Value\"].mean().round(2)) \n",
    "\n",
    "fig,axes = plt.subplots(nrows =1,ncols=4, figsize = (15,4))\n",
    "\n",
    "axes[0].plot(outtotal_df, lw = 3)\n",
    "axes[0].set_title(\"Total Outflows\")\n",
    "axes[0].set_ylabel(\"Total Outflows (10s of millions)\")\n",
    "axes[0].set_xlabel(\"Year\")\n",
    "\n",
    "axes[1].plot(outtotal_df, ls = \"--\", lw = 3)\n",
    "axes[1].set_title(\"Total Outflows (2000-2017)\")\n",
    "axes[1].set_ylabel(\"Total Outflows (million)\")\n",
    "axes[1].set_xlabel(\"Year\")\n",
    "axes[1].set_xlim([2000,2017])\n",
    "axes[1].set_ylim([700000,3000000])\n",
    "\n",
    "axes[2].plot(outavg_df, color = \"red\", lw = 3)\n",
    "axes[2].set_title(\"Average Outflows\")\n",
    "axes[2].set_ylabel(\"Avg Outflows\")\n",
    "axes[2].set_xlabel(\"Year\")\n",
    "\n",
    "axes[3].plot(outavg_df, color = \"red\",ls=\"--\", lw =3)\n",
    "axes[3].set_title(\"Average Outflows (2000-2017)\")\n",
    "axes[3].set_ylabel(\"Avg Outflows\")\n",
    "axes[3].set_xlabel(\"Year\")\n",
    "axes[3].set_xlim([2000,2017])\n",
    "axes[3].set_ylim([300,1000])\n",
    "\n",
    "plt.tight_layout()"
   ]
  },
  {
   "cell_type": "code",
   "execution_count": null,
   "id": "adf5881f",
   "metadata": {},
   "outputs": [],
   "source": [
    "# Total and Average Stock of foreign population by nationality each year\n",
    "print ( \"Total stock of foreign-born population by nationality each year, average stock by nationality per country\")\n",
    "stockn_sum= data2[data2[\"Variable\"]==\"Stock of foreign population by nationality\"].groupby(\"Year\")[\"Value\"].sum().round(2)\n",
    "stockn_avg= data2[data2[\"Variable\"]==\"Stock of foreign population by nationality\"].groupby(\"Year\")[\"Value\"].mean().round(2)\n",
    "year = data2[\"Year\"].unique()\n",
    "for year,stockn_sum,stockn_avg in zip(year,stockn_sum,stockn_avg):\n",
    "    print (year,\":\",stockn_sum,\",\",stockn_avg)"
   ]
  },
  {
   "cell_type": "code",
   "execution_count": null,
   "id": "6767366f",
   "metadata": {},
   "outputs": [],
   "source": [
    "# Total and Average Stock of foreign-born population by country of birth each year\n",
    "print ( \"Total stock of foreign-born population by country of birth each year, average stock by birth per country\")\n",
    "stockc_sum = data2[data2[\"Variable\"]==\"Stock of foreign-born population by country of birth\"].groupby(\"Year\")[\"Value\"].sum().round(2)\n",
    "stockc_avg = data2[data2[\"Variable\"]==\"Stock of foreign-born population by country of birth\"].groupby(\"Year\")[\"Value\"].mean().round(2)\n",
    "year = data2[\"Year\"].unique()\n",
    "for year,stockc_sum,stockc_avg in zip(year,stockc_sum,stockc_avg):\n",
    "    print (year,\":\",stockc_sum,\",\",stockc_avg)"
   ]
  },
  {
   "cell_type": "code",
   "execution_count": null,
   "id": "c3232e4f",
   "metadata": {},
   "outputs": [],
   "source": [
    "# TOTAL NET FLOWS (unlike balance of accounts) = Total Inflows - Total Outflows \n",
    "# TOTAL AVERAGE FLOWS = Average Inflows - Average Outflows\n",
    "totalnet = inftotal_df.subtract(outtotal_df)\n",
    "avgnet = infavg_df.subtract(outavg_df)\n",
    "net = pd.concat([inftotal_df,outtotal_df,totalnet,infavg_df,outavg_df,avgnet],axis = 1)\n",
    "net.columns = [\"Total Inflows\",\"Total Outflows\",\"Total Net Flows\",\"Avg Inflows\",\"Avg Outflows\",\"Avg Net Flows\"]\n",
    "net"
   ]
  },
  {
   "cell_type": "code",
   "execution_count": null,
   "id": "52e091d3",
   "metadata": {},
   "outputs": [],
   "source": [
    "# Graph of Total and Average Netflows of foreign populations each year for inputted country\n",
    "fig,axes = plt.subplots(nrows =1,ncols=4, figsize = (15,4))\n",
    "\n",
    "axes[0].plot(totalnet, lw = 3)\n",
    "axes[0].set_title(\"Total Net\")\n",
    "axes[0].set_ylabel(\"Total Net (million)\")\n",
    "axes[0].set_xlabel(\"Year\")\n",
    "\n",
    "axes[1].plot(totalnet, ls = \"--\", lw = 3)\n",
    "axes[1].set_title(\"Total Net (2000-2017)\")\n",
    "axes[1].set_ylabel(\"Total Net (million)\")\n",
    "axes[1].set_xlabel(\"Year\")\n",
    "axes[1].set_xlim([2000,2017])\n",
    "axes[1].set_ylim([2000000,5000000])\n",
    "\n",
    "axes[2].plot(avgnet, color = \"red\", lw = 3)\n",
    "axes[2].set_title(\"Average Net\")\n",
    "axes[2].set_ylabel(\"Avg Net\")\n",
    "axes[2].set_xlabel(\"Year\")\n",
    "\n",
    "axes[3].plot(avgnet, color = \"red\",ls=\"--\", lw =3)\n",
    "axes[3].set_title(\"Average Net (2000-2017)\")\n",
    "axes[3].set_ylabel(\"Avg Net\")\n",
    "axes[3].set_xlabel(\"Year\")\n",
    "axes[3].set_xlim([2000,2017])\n",
    "axes[3].set_ylim([350,900])\n",
    "\n",
    "plt.tight_layout()"
   ]
  },
  {
   "cell_type": "code",
   "execution_count": null,
   "id": "38c9d8f6",
   "metadata": {},
   "outputs": [],
   "source": [
    "# TOTAL NET FLOWS (unlike balance of accounts) = Total Inflows - Total Outflows \n",
    "tnet = pd.concat([inftotal_df,outtotal_df],axis = 1)\n",
    "tnet.columns = [\"Total Inflows\",\"Total Outflows\"]\n",
    "tnet\n",
    "kgt = sns.jointplot(x = \"Total Inflows\", y = \"Total Outflows\", data = tnet, kind = \"kde\")\n",
    "kgt.fig.suptitle(\"Total Inflows vs Total Outflows\")\n",
    "kgt.fig.tight_layout()"
   ]
  },
  {
   "cell_type": "code",
   "execution_count": null,
   "id": "0201bf57",
   "metadata": {},
   "outputs": [],
   "source": [
    "# TOTAL NET FLOWS (unlike balance of accounts) = Total Inflows - Total Outflows \n",
    "tnet = pd.concat([inftotal_df,outtotal_df],axis = 1)\n",
    "tnet.columns = [\"Total Inflows\",\"Total Outflows\"]\n",
    "tnet\n",
    "rgt = sns.jointplot(x = \"Total Inflows\", y = \"Total Outflows\", data = tnet, kind = \"reg\")\n",
    "rgt.fig.suptitle(\"Total Inflows vs Total Outflows\")\n",
    "rgt.fig.tight_layout()"
   ]
  },
  {
   "cell_type": "code",
   "execution_count": null,
   "id": "80c23fe4",
   "metadata": {},
   "outputs": [],
   "source": [
    "# AVERAGE NET FLOWS = Average Inflows - Average Outflows \n",
    "anet = pd.concat([infavg_df,outavg_df],axis = 1)\n",
    "anet.columns = [\"Avg Inflows\",\"Avg Outflows\"]\n",
    "anet\n",
    "kga = sns.jointplot(x = \"Avg Inflows\", y = \"Avg Outflows\", data = anet, kind = \"kde\", color = \"red\")\n",
    "kga.fig.suptitle(\"Avg Inflows vs Avg Outflows\")\n",
    "kga.fig.tight_layout()"
   ]
  },
  {
   "cell_type": "code",
   "execution_count": null,
   "id": "92d894a1",
   "metadata": {},
   "outputs": [],
   "source": [
    "# AVERAGE NET FLOWS = Average Inflows - Average Outflows \n",
    "sns.lmplot(x = \"Avg Inflows\",y = \"Avg Outflows\", data = net, markers = \"v\", scatter_kws = {\"s\":100,\"color\":\"red\"},line_kws = {\"ls\":\"--\"})"
   ]
  },
  {
   "cell_type": "code",
   "execution_count": null,
   "id": "01214f1e",
   "metadata": {},
   "outputs": [],
   "source": [
    "npg = sns.PairGrid(net)\n",
    "npg.map_diag (sns.histplot)\n",
    "npg.map_upper (plt.scatter)\n",
    "npg.map_lower (sns.kdeplot)"
   ]
  },
  {
   "cell_type": "code",
   "execution_count": null,
   "id": "0fd6a19c",
   "metadata": {},
   "outputs": [],
   "source": [
    "# Top 5 Largest Outflows\n",
    "t5out = data2[data2[\"Variable\"]==\"Outflows of foreign population by nationality\"].groupby(\"Country\")[\"Value\"].sum().nlargest(5)\n",
    "t5outg = t5out.plot.bar(color = [\"red\",\"lawngreen\",\"orange\",\"plum\",\"olive\"])\n",
    "t5outg.set_xlabel(\"Country\")\n",
    "t5outg.set_ylabel(\"Outflows aggregate (10s of millions)\")\n",
    "t5outg.set_title(\"Top 5 Total Outflows from 2000-2019\")\n",
    "plt.tight_layout()"
   ]
  },
  {
   "cell_type": "code",
   "execution_count": null,
   "id": "b49e99f2",
   "metadata": {},
   "outputs": [],
   "source": [
    "# Top 5 Largest Inflows\n",
    "t5inf = data2[data2[\"Variable\"]==\"Inflows of foreign population by nationality\"].groupby(\"Country\")[\"Value\"].sum().nlargest(5)\n",
    "t5infg = t5inf.plot.bar(color = [\"grey\",\"blue\",\"coral\",\"purple\",\"yellow\"])\n",
    "t5infg.set_xlabel(\"Country\")\n",
    "t5infg.set_ylabel(\"Inflows aggregate (10s of millions)\")\n",
    "t5infg.set_title(\"Top 5 Total Inflows from 2000-2019\")\n",
    "plt.tight_layout()"
   ]
  },
  {
   "cell_type": "code",
   "execution_count": null,
   "id": "559bf501",
   "metadata": {},
   "outputs": [],
   "source": [
    "# Top 5 Largest Stock by Nationality in 2019\n",
    "t5sn = data2[(data2[\"Year\"] == 2019) & (data2[\"Variable\"]==\"Stock of foreign population by nationality\")].groupby(\"Country\")[\"Value\"].sum().nlargest(5)\n",
    "t5sng = t5sn.plot.bar(color = [\"maroon\",\"cyan\",\"orange\",\"purple\",\"gold\"])\n",
    "t5sng.set_xlabel(\"Country\")\n",
    "t5sng.set_ylabel(\"Stock (10s of millions)\")\n",
    "t5sng.set_title(\"Top 5 Stock by Nationality in 2019\")\n",
    "plt.tight_layout()"
   ]
  },
  {
   "cell_type": "code",
   "execution_count": null,
   "id": "82043ab8",
   "metadata": {},
   "outputs": [],
   "source": [
    "# Top 5 Largest Stock by Birth in 2019\n",
    "t5sb = data2[(data2[\"Year\"] == 2019) & (data2[\"Variable\"]==\"Stock of foreign-born population by country of birth\")].groupby(\"Country\")[\"Value\"].sum().nlargest(5)\n",
    "t5sbg = t5sb.plot.bar(color = [\"red\",\"blue\",\"orange\",\"purple\",\"yellow\"])\n",
    "t5sbg.set_xlabel(\"Country\")\n",
    "t5sbg.set_ylabel(\"Stock (10s of millions)\")\n",
    "t5sbg.set_title(\"Top 5 Stock by Birth in 2019\")\n",
    "plt.tight_layout()"
   ]
  },
  {
   "cell_type": "code",
   "execution_count": null,
   "id": "b29ef699",
   "metadata": {},
   "outputs": [],
   "source": [
    "## This provides analysis into the inputted country by looking at:\n",
    "## the INFLOWS and OUTFLOWS of the inputted country\n",
    "\n",
    "# Code cleans up the country options\n",
    "print(\"These are all of the countries we can explore!:\\n\\n\"+str(country1).replace(\"[\",\"\").replace(\"]\",\"\").replace(\"'\",\"\"))\n",
    "\n",
    "# Loop until inputted country matches the list of countries\n",
    "while True:\n",
    "    print(\"\\nWhich country would you like to learn about? \")\n",
    "    country = input().title()\n",
    "    if country in country1:\n",
    "        country2 = country\n",
    "        break\n",
    "    else:\n",
    "        print(\"Try again\")\n",
    "        continue\n",
    "\n",
    "# Variables \n",
    "output = data2[(data2[\"Country\"]==country2)&(data2[\"Variable\"]==\"Inflows of foreign population by nationality\")]\n",
    "output2 = data2[(data2[\"Country\"]==country2)&(data2[\"Variable\"]==\"Outflows of foreign population by nationality\")]\n",
    "\n",
    "# maxy and miny are the first and last year data was available\n",
    "maxy = output[\"Year\"].max()\n",
    "miny = output[\"Year\"].min()\n",
    "\n",
    "# country_top5 looks for the top 5 nations sorted by total inflows \n",
    "# year_top5 ranks the years with the largest inflows\n",
    "# avg is the average yearly inflows, total is the total inflows \n",
    "\n",
    "country_top5 = str(output.groupby(\"Country of birth/nationality\")[\"Value\"].sum().nlargest(5).round(2).to_dict()).replace(\"{\",\"\").replace(\"}\",\"\").replace(\"'\",\"\")\n",
    "year_top5 = str(output.groupby(\"Year\")[\"Value\"].sum().nlargest(5).round(2).to_dict()).replace(\"{\",\"\").replace(\"}\",\"\")\n",
    "avg = round(output.groupby(\"Year\")[\"Value\"].sum().mean(),2)\n",
    "total = round(output[\"Value\"].sum(),2)\n",
    "\n",
    "# country_top5_2 looks for the top 5 nations sorted by total outflows \n",
    "# year_top5_2 ranks the years with the largest outflows\n",
    "# avg2 is the average yearly inflows, total2 is the total outflows \n",
    "\n",
    "country_top5_2 = str(output2.groupby(\"Country of birth/nationality\")[\"Value\"].sum().nlargest(5).round(2).to_dict()).replace(\"{\",\"\").replace(\"}\",\"\").replace(\"'\",\"\")\n",
    "year_top5_2 = str(output2.groupby(\"Year\")[\"Value\"].sum().nlargest(5).round(2).to_dict()).replace(\"{\",\"\").replace(\"}\",\"\")\n",
    "avg2 = round(output2.groupby(\"Year\")[\"Value\"].sum().mean(),2)\n",
    "total2 = round(output2[\"Value\"].sum(),2)\n",
    "\n",
    "# Output text\n",
    "# Inflows\n",
    "# Missing Data\n",
    "if pd.isna(avg) == True:\n",
    "    print(\"\\n\\nThere does not seem to be enough data on the inflows from {}!\".format(country2))\n",
    "else:\n",
    "    \n",
    "    print(\"\"\"\\n\\nAwesome! You chose to learn more about {}.\n",
    "    \\n\\nThese are the top five nationalities that immigrated into {} between {} and {}:\n",
    "    \\n{}\n",
    "    \\n\\nThese are the the top five years that had the most immigration into {} between {} and {}:\n",
    "    \\n{}\n",
    "    \\n\\nThere are on average {} inflows each year and a total of {} inflows to {} between {} and {}.\"\"\".format(country2,country2,miny,maxy,country_top5,country2, miny, maxy,year_top5,avg,total,country2,miny,maxy))\n",
    "    print(str(\"\\nThe nationality with the most immigrants to {} in one year is \"+str(list(output[output[\"Value\"]==output[\"Value\"].max()][\"Country of birth/nationality\"]))+\"; which happend in \"+str(list(output[output[\"Value\"]==output[\"Value\"].max()][\"Year\"]))+\". There was a total of \"+str(list(output[output[\"Value\"]==output[\"Value\"].max()][\"Value\"]))+\" immigrants in that year.\").format(country2).replace(\"'\",\"\").replace(\"[\",\"\").replace(\"]\",\"\"))\n",
    "\n",
    "# Outflows\n",
    "# Missing Data\n",
    "if pd.isna(avg2) == True:\n",
    "    print(\"\\n\\nThere does not seem to be enough data on the outflows from {}!\".format(country2))\n",
    "else:\n",
    "\n",
    "    print(\"\"\"\\n\\nThese are the top five nationalities that emigrated from {} between {} and {}:\n",
    "    \\n{}\n",
    "    \\n\\nThese are the the top five years that had the most emigration from {} between {} and {}:\n",
    "    \\n{}\n",
    "    \\n\\nThere are on average {} outflows each year and a total of {} outflows from {} between {} and {}.\"\"\".format(country2,miny,maxy,country_top5_2,country2, miny, maxy,year_top5_2,avg2,total2,country2,miny,maxy))\n",
    "    print(str(\"\\nThe nationality with the most emigrants from {} in one year is \"+str(list(output2[output2[\"Value\"]==output2[\"Value\"].max()][\"Country of birth/nationality\"]))+\"; which happend in \"+str(list(output2[output2[\"Value\"]==output2[\"Value\"].max()][\"Year\"]))+\". There was a total of \"+str(list(output2[output2[\"Value\"]==output2[\"Value\"].max()][\"Value\"]))+\" emigrants in that year.\").format(country2).replace(\"'\",\"\").replace(\"[\",\"\").replace(\"]\",\"\"))\n",
    "\n"
   ]
  },
  {
   "cell_type": "code",
   "execution_count": null,
   "id": "2c09b4f1",
   "metadata": {},
   "outputs": [],
   "source": [
    "# Graph of Total and Average Inflows of foreign populations each year for inputted country\n",
    "if pd.isna(avg) == True:\n",
    "    print(\"\\n\\nThere does not seem to be enough data on the inflows from {}!\".format(country2))\n",
    "else:\n",
    "    \n",
    "    cinftotal_df = pd.DataFrame(data2[(data2[\"Country\"]==country2)&(data2[\"Variable\"]==\"Inflows of foreign population by nationality\")].groupby(\"Year\")[\"Value\"].sum().round(2))\n",
    "    cinfavg_df = pd.DataFrame(data2[(data2[\"Country\"]==country2)&(data2[\"Variable\"]==\"Inflows of foreign population by nationality\")].groupby(\"Year\")[\"Value\"].mean().round(2)) \n",
    "    \n",
    "    fig,axes = plt.subplots(nrows =1,ncols=2, figsize=(15,4))\n",
    "    \n",
    "    axes[0].plot(cinftotal_df, lw = 3)\n",
    "    axes[0].set_title(\"Total Inflows\")\n",
    "    axes[0].set_ylabel(\"Total Inflows\")\n",
    "    axes[0].set_xlabel(\"Year\")\n",
    "    \n",
    "    axes[1].plot(cinfavg_df, color = \"red\", lw =3, ls = \"--\")\n",
    "    axes[1].set_title(\"Average Inflows per nationality that immigrated\")\n",
    "    axes[1].set_ylabel(\"Avg Inflows\")\n",
    "    axes[1].set_xlabel(\"Year\")\n",
    "    \n",
    "    plt.tight_layout()"
   ]
  },
  {
   "cell_type": "code",
   "execution_count": null,
   "id": "6ece8a83",
   "metadata": {},
   "outputs": [],
   "source": [
    "# Graph of Total and Average Outflows of foreign populations each year for inputted country\n",
    "if pd.isna(avg2) == True:\n",
    "    print(\"\\n\\nThere does not seem to be enough data on the outflows from {}!\".format(country2))\n",
    "else:\n",
    "\n",
    "    couttotal_df = pd.DataFrame(data2[(data2[\"Country\"]==country2)&(data2[\"Variable\"]==\"Outflows of foreign population by nationality\")].groupby(\"Year\")[\"Value\"].sum().round(2))\n",
    "    coutavg_df = pd.DataFrame(data2[(data2[\"Country\"]==country2)&(data2[\"Variable\"]==\"Outflows of foreign population by nationality\")].groupby(\"Year\")[\"Value\"].mean().round(2))\n",
    "    \n",
    "    fig,axes = plt.subplots(nrows =1,ncols=2, figsize = (15,4))\n",
    "    \n",
    "    axes[0].plot(couttotal_df, lw = 3)\n",
    "    axes[0].set_title(\"Total Outflows\")\n",
    "    axes[0].set_ylabel(\"Total Outflows (billion)\")\n",
    "    axes[0].set_xlabel(\"Year\")\n",
    "    \n",
    "    axes[1].plot(coutavg_df, color = \"red\", lw = 3)\n",
    "    axes[1].set_title(\"Average Outflows\")\n",
    "    axes[1].set_ylabel(\"Avg Outflows\")\n",
    "    axes[1].set_xlabel(\"Year\")\n",
    "    \n",
    "    \n",
    "    \n",
    "    plt.tight_layout()"
   ]
  },
  {
   "cell_type": "code",
   "execution_count": null,
   "id": "699de8aa",
   "metadata": {},
   "outputs": [],
   "source": [
    "# TOTAL NET FLOWS = Total Inflows - Total Outflows \n",
    "# TOTAL AVERAGE FLOWS = Average Inflows - Average Outflows\n",
    "\n",
    "ctotalnet = cinftotal_df.subtract(couttotal_df)\n",
    "cavgnet = cinfavg_df.subtract(coutavg_df)\n",
    "cnet = pd.concat([cinftotal_df,couttotal_df,ctotalnet,cinfavg_df,coutavg_df,cavgnet],axis = 1)\n",
    "cnet.columns = [\"Total Inflows\",\"Total Outflows\",\"Total Net Flows\",\"Avg Inflows\",\"Avg Outflows\",\"Avg Net Flows\"]\n",
    "cnet"
   ]
  },
  {
   "cell_type": "code",
   "execution_count": null,
   "id": "04c58c83",
   "metadata": {},
   "outputs": [],
   "source": [
    "# Graph of Total and Average Netflows of foreign populations each year for inputted country\n",
    "if pd.isna(avg2) == True:\n",
    "    print(\"\\n\\nThere does not seem to be enough data on the outflows from {}!\".format(country2))\n",
    "elif pd.isna(avg) == True:\n",
    "    print(\"\\n\\nThere does not seem to be enough data on the inflows from {}!\".format(country2))\n",
    "else:\n",
    "\n",
    "    fig,axes = plt.subplots(nrows =1,ncols=2, figsize = (15,4))\n",
    "    \n",
    "    axes[0].plot(ctotalnet, lw = 3)\n",
    "    axes[0].set_title(\"Total Netflows\")\n",
    "    axes[0].set_ylabel(\"Total Netflows\")\n",
    "    axes[0].set_xlabel(\"Year\")\n",
    "    \n",
    "    axes[1].plot(cavgnet, color = \"red\", lw = 3)\n",
    "    axes[1].set_title(\"Average Netflows\")\n",
    "    axes[1].set_ylabel(\"Avg Netflows\")\n",
    "    axes[1].set_xlabel(\"Year\")\n",
    "    \n",
    "    plt.tight_layout()"
   ]
  },
  {
   "cell_type": "code",
   "execution_count": null,
   "id": "721b850e",
   "metadata": {},
   "outputs": [],
   "source": [
    "# Top 5 Largest Outflows from Inputted Country\n",
    "if pd.isna(avg2) == True:\n",
    "    print(\"\\n\\nThere does not seem to be enough data on the outflows from {}!\".format(country2))\n",
    "else:\n",
    "    t5cout = output2.groupby(\"Country of birth/nationality\")[\"Value\"].sum().nlargest(5)\n",
    "    t5coutg = t5cout.plot.bar(color = [\"red\",\"blue\",\"orange\",\"purple\",\"yellow\"])\n",
    "    t5coutg.set_xlabel(\"Country\")\n",
    "    t5coutg.set_ylabel(\"Outflows aggregate\")\n",
    "    t5coutg.set_title(\"Top 5 Total Outflows from 2000-2019\")\n",
    "    plt.tight_layout()"
   ]
  },
  {
   "cell_type": "code",
   "execution_count": null,
   "id": "ee0fdc5d",
   "metadata": {},
   "outputs": [],
   "source": [
    "# Top 5 Largest Inflows to Inputted Country\n",
    "if pd.isna(avg) == True:\n",
    "    print(\"\\n\\nThere does not seem to be enough data on the inflows from {}!\".format(country2))\n",
    "else:\n",
    "    t5cinf = output.groupby(\"Country of birth/nationality\")[\"Value\"].sum().nlargest(5)\n",
    "    t5cinfg = t5cinf.plot.bar(color = [\"red\",\"blue\",\"orange\",\"purple\",\"greenyellow\"])\n",
    "    t5cinfg.set_xlabel(\"Country\")\n",
    "    t5cinfg.set_ylabel(\"Inflows aggregate\")\n",
    "    t5cinfg.set_title(\"Top 5 Total Inflows from 2000-2019\")\n",
    "    plt.tight_layout()"
   ]
  },
  {
   "cell_type": "code",
   "execution_count": null,
   "id": "d5bda480",
   "metadata": {},
   "outputs": [],
   "source": [
    "# STOCK OVER TIME (BY NATIONALITY)\n",
    "stocknc = data2[(data2[\"Country\"]==country2)&(data2[\"Variable\"]==\"Stock of foreign population by nationality\")].groupby(\"Year\")[\"Value\"].sum()\n",
    "stocknc"
   ]
  },
  {
   "cell_type": "code",
   "execution_count": null,
   "id": "89f2d928",
   "metadata": {},
   "outputs": [],
   "source": [
    "# STOCK OVER TIME (BY BIRTH)\n",
    "stockbc = data2[(data2[\"Country\"]==country2)&(data2[\"Variable\"]==\"Stock of foreign-born population by country of birth\")].groupby(\"Year\")[\"Value\"].sum()\n",
    "stockbc"
   ]
  }
 ],
 "metadata": {
  "kernelspec": {
   "display_name": "Python 3 (ipykernel)",
   "language": "python",
   "name": "python3"
  },
  "language_info": {
   "codemirror_mode": {
    "name": "ipython",
    "version": 3
   },
   "file_extension": ".py",
   "mimetype": "text/x-python",
   "name": "python",
   "nbconvert_exporter": "python",
   "pygments_lexer": "ipython3",
   "version": "3.9.7"
  }
 },
 "nbformat": 4,
 "nbformat_minor": 5
}
